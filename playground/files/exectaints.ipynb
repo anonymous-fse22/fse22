{
  "metadata": {
    "interpreter": {
      "hash": "767d51c1340bd893661ea55ea3124f6de3c7a262a8b4abca0554b478b1e2ff90"
    },
    "kernelspec": {
      "name": "python",
      "display_name": "Pyolite",
      "language": "python"
    },
    "language_info": {
      "codemirror_mode": {
        "name": "python",
        "version": 3
      },
      "file_extension": ".py",
      "mimetype": "text/x-python",
      "name": "python",
      "nbconvert_exporter": "python",
      "pygments_lexer": "ipython3",
      "version": "3.8"
    }
  },
  "nbformat_minor": 4,
  "nbformat": 4,
  "cells": [
    {
      "cell_type": "markdown",
      "source": "# Playground for Mutation Testing with Execution Taints\n\nThis jupyter notebook reimplements our prototype library for execution taints for python.\nAs multiprocessing is limited in jupyter notebooks only the non-forking version is shown.\n\nWe start by importing a few prerequisites.",
      "metadata": {}
    },
    {
      "cell_type": "code",
      "source": "import types\nfrom typing import Any, Optional, Union, TypeVar, Tuple, Callable, Dict, Iterable\nfrom copy import deepcopy\nfrom itertools import chain\nimport traceback\nfrom functools import wraps",
      "metadata": {
        "trusted": true
      },
      "execution_count": 1,
      "outputs": []
    },
    {
      "cell_type": "markdown",
      "source": "We also use a logger for better messaging.",
      "metadata": {}
    },
    {
      "cell_type": "code",
      "source": "import logging\nlogger = logging.getLogger()",
      "metadata": {
        "trusted": true
      },
      "execution_count": 2,
      "outputs": []
    },
    {
      "cell_type": "markdown",
      "source": "### Constants and Exceptions\n#### MAINLINE\n\nThe _MAINLINE_ execution is the path taken by the original program. We define `MAINLINE` to be `0`.",
      "metadata": {}
    },
    {
      "cell_type": "code",
      "source": "MAINLINE = 0",
      "metadata": {
        "trusted": true
      },
      "execution_count": 3,
      "outputs": []
    },
    {
      "cell_type": "markdown",
      "source": "#### PRIMITIVE_TYPES",
      "metadata": {}
    },
    {
      "cell_type": "markdown",
      "source": "This is used to decide what return values should be untainted when returning from a function.",
      "metadata": {}
    },
    {
      "cell_type": "code",
      "source": "PRIMITIVE_TYPES = [bool, int, float]",
      "metadata": {
        "trusted": true
      },
      "execution_count": 4,
      "outputs": []
    },
    {
      "cell_type": "markdown",
      "source": "### Exceptions",
      "metadata": {
        "tags": []
      }
    },
    {
      "cell_type": "markdown",
      "source": "#### ShadowExceptionStop\nNo more mutants alive, stop this execution",
      "metadata": {}
    },
    {
      "cell_type": "code",
      "source": "class ShadowExceptionStop(Exception): pass",
      "metadata": {
        "trusted": true
      },
      "execution_count": 5,
      "outputs": []
    },
    {
      "cell_type": "markdown",
      "source": "#### ShadowException\nWraps a exception that happened during the run.",
      "metadata": {}
    },
    {
      "cell_type": "code",
      "source": "class ShadowException(Exception): pass",
      "metadata": {
        "trusted": true
      },
      "execution_count": 6,
      "outputs": []
    },
    {
      "cell_type": "markdown",
      "source": "### Active and Killed Mutants",
      "metadata": {}
    },
    {
      "cell_type": "code",
      "source": "_LOGICAL_PATH = MAINLINE\n_SELECTED_MUTANT: Union[int, None] = None\n_STRONGLY_KILLED: set[int] = set()\n_SEEN_MUTANTS: set[int] = set()\n_FUNCTION_SEEN_MUTANTS: set[int] = set()\n_FUNCTION_MASKED_MUTANTS: set[int] = set()\n_MASKED_MUTANTS: set[int] = set()\n\ndef reinit_path(logical_path: Union[int, None]) -> None:\n    global _LOGICAL_PATH\n    global _SELECTED_MUTANT\n    global _STRONGLY_KILLED\n    global _NS_ACTIVE_MUTANTS\n    global _SEEN_MUTANTS\n    global _FUNCTION_SEEN_MUTANTS\n    global _FUNCTION_MASKED_MUTANTS\n    global _MASKED_MUTANTS\n    global _SHARED_RESULTS_PATH\n\n    if logical_path is not None:\n        _LOGICAL_PATH = logical_path\n    else:\n        _LOGICAL_PATH = MAINLINE\n\n    _SELECTED_MUTANT = None\n    _STRONGLY_KILLED = set()\n\n    _SEEN_MUTANTS = set()\n    _FUNCTION_SEEN_MUTANTS = set()\n    _FUNCTION_MASKED_MUTANTS = set()\n    _MASKED_MUTANTS = set()\n\ndef get_logical_path() -> int:\n    return _LOGICAL_PATH\n\ndef set_logical_path(path: int) -> None:\n    global _LOGICAL_PATH\n    _LOGICAL_PATH = path\n\ndef active_mutants() -> set[int]:\n    global _SEEN_MUTANTS\n    global _MASKED_MUTANTS\n    return _SEEN_MUTANTS - _MASKED_MUTANTS\n\ndef try_next_logical_path() -> None:\n    cur_active_mutants = active_mutants()\n    if cur_active_mutants:\n        set_logical_path(cur_active_mutants.pop())\n    else:\n        raise ShadowExceptionStop()\n\ndef add_strongly_killed(mut: int) -> None:\n    global _MASKED_MUTANTS\n\n    if mut in _STRONGLY_KILLED:\n        logger.warning(f\"redundant strongly killed: {mut}\")\n        assert False\n\n    _MASKED_MUTANTS.add(mut)\n    _STRONGLY_KILLED.add(mut)\n\n    if get_logical_path() == mut:\n        try_next_logical_path()\n\n\ndef get_selected_mutant() -> Union[int, None]:\n    return _SELECTED_MUTANT\n\ndef set_selected_mutant(mut: Union[int, None]):\n    global _SELECTED_MUTANT\n    _SELECTED_MUTANT = mut\n\ndef get_strongly_killed() -> set[int]:\n    return _STRONGLY_KILLED\n\n\ndef merge_strongly_killed(killed: set[int]):\n    global _STRONGLY_KILLED\n    _STRONGLY_KILLED |= killed\n\n\ndef get_seen_mutants() -> set[int]:\n    return _SEEN_MUTANTS\n\n\ndef get_function_seen() -> set[int]:\n    return _FUNCTION_SEEN_MUTANTS\n\n\ndef get_function_masked() -> set[int]:\n    return _FUNCTION_MASKED_MUTANTS\n\n\ndef add_function_seen_mutants(muts: set[int]):\n    global _FUNCTION_SEEN_MUTANTS\n    _FUNCTION_SEEN_MUTANTS |= muts\n\n\ndef reset_function_seen() -> set[int]:\n    global _FUNCTION_SEEN_MUTANTS\n    _FUNCTION_SEEN_MUTANTS.clear()\n\n\ndef reset_function_masked() -> set[int]:\n    global _FUNCTION_MASKED_MUTANTS\n    _FUNCTION_MASKED_MUTANTS.clear()\n\n\ndef add_seen_mutants(muts: set[int]):\n    global _SEEN_MUTANTS\n    global _FUNCTION_SEEN_MUTANTS\n    _SEEN_MUTANTS |= muts\n    _FUNCTION_SEEN_MUTANTS |= muts\n\n\ndef get_masked_mutants() -> set[int]:\n    return _MASKED_MUTANTS\n\n\ndef set_masked_mutants(masked: set[int]) -> None:\n    global _MASKED_MUTANTS\n    _MASKED_MUTANTS = masked\n\n\ndef add_masked_mutants(masked: set[int]):\n    global _MASKED_MUTANTS\n    global _FUNCTION_MASKED_MUTANTS\n    _MASKED_MUTANTS |= masked\n    _FUNCTION_MASKED_MUTANTS |= masked\n\n\ndef remove_masked_mutants(masked: set[int]):\n    global _MASKED_MUTANTS\n    _MASKED_MUTANTS -= masked\n\n\ndef t_get_killed() -> dict[str, Any]:\n    res = {\n        'strong': _STRONGLY_KILLED,\n        'masked': _MASKED_MUTANTS,\n        'seen': _SEEN_MUTANTS,\n    }\n    return res",
      "metadata": {
        "trusted": true
      },
      "execution_count": 7,
      "outputs": []
    },
    {
      "cell_type": "markdown",
      "source": "### shadow_get()\n\nWhen we want something from the shadow, if it is not there, get it from mainline.",
      "metadata": {}
    },
    {
      "cell_type": "code",
      "source": "def shadow_get(shadow, path) -> Any:\n    if path in shadow:\n        return shadow[path]\n    elif MAINLINE in shadow:\n        return shadow[MAINLINE]\n    else:\n        raise ValueError()",
      "metadata": {
        "trusted": true
      },
      "execution_count": 8,
      "outputs": []
    },
    {
      "cell_type": "markdown",
      "source": "### The ShadowVariable Class",
      "metadata": {
        "tags": []
      }
    },
    {
      "cell_type": "markdown",
      "source": "The `ShadowVariable` class is used to manage execution taints for variables of all types, be it primitive types, container, or objects created from wrapped classes.\nThe basic approach to create the execution traces, implemented by this class, is to create a independent copy of the variables for each stored taint. Accesses to the taint values, through attributes, methods or directly, are passed through to each wrapped taint value, the then resulting values for each access are combined in a ShadowVariable.",
      "metadata": {}
    },
    {
      "cell_type": "code",
      "source": "class ShadowVariable:\n    _shadow: dict[int, Any]\n    __slots__ = ['_shadow']",
      "metadata": {
        "trusted": true
      },
      "execution_count": 9,
      "outputs": []
    },
    {
      "cell_type": "markdown",
      "source": "There are two ways to initialize a shadow variable. One where we produce a new shadow variable from a new object, and the second, when we produce a new shadow variable from a given mapping.",
      "metadata": {}
    },
    {
      "cell_type": "code",
      "source": "class ShadowVariable(ShadowVariable):\n    def __init__(self, values: Any, from_mapping: bool):\n        if not from_mapping:\n            self._shadow = self._init_from_object(values)\n        else:\n            self._shadow = self._init_from_mapping(values)",
      "metadata": {
        "trusted": true
      },
      "execution_count": 10,
      "outputs": []
    },
    {
      "cell_type": "code",
      "source": "SV = TypeVar('SV', bound=\"ShadowVariable\")",
      "metadata": {
        "trusted": true
      },
      "execution_count": 11,
      "outputs": []
    },
    {
      "cell_type": "markdown",
      "source": "#### Dunder methods\n##### Allowed DUNDER",
      "metadata": {}
    },
    {
      "cell_type": "code",
      "source": "ALLOWED_UNARY_DUNDER_METHODS = {\n    '__abs__':   lambda args, kwargs, a, _: abs(a, *args, **kwargs),\n    '__round__': lambda args, kwargs, a, _: round(a, *args, **kwargs),\n    '__neg__':   lambda args, kwargs, a, _: -a,\n    '__len__':   lambda args, kwargs, a, _: len(a),\n    '__index__': lambda args, kwargs, a, _: a.__index__(),\n}\n\nALLOWED_BOOL_DUNDER_METHODS = {\n    '__add__':        lambda args, kwargs, a, b: a + b,\n    '__sub__':        lambda args, kwargs, a, b: a - b,\n    '__truediv__':    lambda args, kwargs, a, b: a / b,\n    '__floordiv__':   lambda args, kwargs, a, b: a // b,\n    '__mul__':        lambda args, kwargs, a, b: a * b,\n    '__pow__':        lambda args, kwargs, a, b: a ** b,\n    '__mod__':        lambda args, kwargs, a, b: a % b,\n    '__and__':        lambda args, kwargs, a, b: a & b,\n    '__or__':         lambda args, kwargs, a, b: a | b,\n    '__xor__':        lambda args, kwargs, a, b: a ^ b,\n    '__lshift__':     lambda args, kwargs, a, b: a << b,\n    '__rshift__':     lambda args, kwargs, a, b: a >> b,\n    '__eq__':         lambda args, kwargs, a, b: a == b,\n    '__ne__':         lambda args, kwargs, a, b: a != b,\n    '__le__':         lambda args, kwargs, a, b: a <= b,\n    '__lt__':         lambda args, kwargs, a, b: a < b,\n    '__ge__':         lambda args, kwargs, a, b: a >= b,\n    '__gt__':         lambda args, kwargs, a, b: a > b,\n\n    # same methods but also do the reversed side\n    '__radd__':       lambda args, kwargs, b, a: a + b,\n    '__rsub__':       lambda args, kwargs, b, a: a - b,\n    '__rtruediv__':   lambda args, kwargs, b, a: a / b,\n    '__rfloordiv__':  lambda args, kwargs, b, a: a // b,\n    '__rmul__':       lambda args, kwargs, b, a: a * b,\n    '__rpow__':       lambda args, kwargs, b, a: a ** b,\n    '__rmod__':       lambda args, kwargs, b, a: a % b,\n    '__rand__':       lambda args, kwargs, b, a: a & b,\n    '__ror__':        lambda args, kwargs, b, a: a | b,\n    '__rxor__':       lambda args, kwargs, b, a: a ^ b,\n    '__rlshift__':    lambda args, kwargs, b, a: a << b,\n    '__rrshift__':    lambda args, kwargs, b, a: a >> b,\n    '__req__':        lambda args, kwargs, b, a: a == b,\n    '__rne__':        lambda args, kwargs, b, a: a != b,\n    '__rle__':        lambda args, kwargs, b, a: a <= b,\n    '__rlt__':        lambda args, kwargs, b, a: a < b,\n    '__rge__':        lambda args, kwargs, b, a: a >= b,\n    '__rgt__':        lambda args, kwargs, b, a: a > b,\n}",
      "metadata": {
        "trusted": true
      },
      "execution_count": 12,
      "outputs": []
    },
    {
      "cell_type": "markdown",
      "source": "##### Passthrough DUNDER",
      "metadata": {}
    },
    {
      "cell_type": "code",
      "source": "PASSTHROUGH_DUNDER_METHODS = {\n    # '__init__' is already manually defined, after instantiation of SV\n    # the passthrough will happen through __getattribute__\n    '__iter__',\n    '__next__',\n    '__setitem__',\n    '__getitem__',\n}",
      "metadata": {
        "trusted": true
      },
      "execution_count": 13,
      "outputs": []
    },
    {
      "cell_type": "markdown",
      "source": "##### Disallowed DUNDER",
      "metadata": {}
    },
    {
      "cell_type": "markdown",
      "source": "We have not implemented these yet.",
      "metadata": {}
    },
    {
      "cell_type": "code",
      "source": "DISALLOWED_DUNDER_METHODS = [\n    '__aenter__', '__aexit__', '__aiter__', '__anext__', '__await__',\n    '__bytes__', '__call__', '__cmp__', '__complex__', '__contains__',\n    '__delattr__', '__delete__', '__delitem__', '__delslice__',  \n    '__enter__', '__exit__', '__fspath__',\n    '__get__', '__getslice__', \n    '__import__', '__imul__', \n    '__int__', '__invert__',\n    '__ior__', '__ixor__', \n    '__nonzero__',\n    '__pos__', '__prepare__', '__rdiv__',\n    '__rdivmod__', '__repr__', '__reversed__',\n    '__set__',\n    '__setslice__', '__sizeof__', '__subclasscheck__', '__subclasses__',\n    '__divmod__',\n    '__div__',\n]",
      "metadata": {
        "trusted": true
      },
      "execution_count": 14,
      "outputs": []
    },
    {
      "cell_type": "markdown",
      "source": "These are not implemented because Python enforces that the specific type is returned in these cases, we cannot override these dunders to return a `ShadowVariable`. Hence, disallow these dunders to avoid accidentally losing taint info",
      "metadata": {}
    },
    {
      "cell_type": "code",
      "source": "DISALLOWED_DUNDER_METHODS.extend([\n    '__bool__', '__float__',\n\n    # ShadowVariable needs to be pickleable for caching to work.\n    # so '__reduce__', '__reduce_ex__', '__class__' are implemented.\n    # For debugging '__dir__' is not disallowed.\n])",
      "metadata": {
        "trusted": true
      },
      "execution_count": 15,
      "outputs": []
    },
    {
      "cell_type": "markdown",
      "source": "##### Ignored DUNDER",
      "metadata": {}
    },
    {
      "cell_type": "code",
      "source": "LIST_OF_IGNORED_DUNDER_METHODS = [\n    '__new__', '__init__', '__init_subclass__', '__instancecheck__', '__getattribute__', \n    '__setattr__', '__str__', '__format__', \n    '__iadd__', '__getnewargs__', '__getnewargs_ex__', '__iand__', '__isub__', \n]",
      "metadata": {
        "trusted": true
      },
      "execution_count": 16,
      "outputs": []
    },
    {
      "cell_type": "markdown",
      "source": "##### Defining DUNDER\n\nHere, what we are doing is to use the previously defined lambdas to define method arguments of our tainted variables.",
      "metadata": {
        "tags": []
      }
    },
    {
      "cell_type": "code",
      "source": "def not_allowed(obj, method, *args, **kwargs) -> None:\n    logger.error(\"{method} %s %s %s\", obj, args, kwargs)\n    raise NotImplementedError(\"dunder method {method} is not allowed\")",
      "metadata": {
        "trusted": true
      },
      "execution_count": 17,
      "outputs": []
    },
    {
      "cell_type": "code",
      "source": "class ShadowVariable(ShadowVariable):\n    for method in ALLOWED_UNARY_DUNDER_METHODS.keys():\n        exec(f\"\"\"\n    def {method}(self, *args, **kwargs):\n        # assert len(args) == 0 and len(kwargs) == 0, f\"{{len(args)}} == 0 and {{len(kwargs)}} == 0\"\n        return self._do_unary_op(\"{method}\", *args, **kwargs)\n        \"\"\".strip())\n\n    # self.{method} = lambda other, *args, **kwargs: self._do_bool_op(other, *args, **kwargs)\n    for method in ALLOWED_BOOL_DUNDER_METHODS.keys():\n        exec(f\"\"\"\n    def {method}(self, other, *args, **kwargs):\n        assert len(args) == 0 and len(kwargs) == 0, f\"{{len(args)}} == 0 and {{len(kwargs)}} == 0\"\n        return self._do_bool_op(other, \"{method}\", *args, **kwargs)\n        \"\"\".strip())\n\n    for method in DISALLOWED_DUNDER_METHODS:\n        exec(f\"\"\"\n    def {method}(self, *args, **kwargs):\n        not_allowed(self, *args, **kwargs)\n        \"\"\".strip())\n\n    for method in PASSTHROUGH_DUNDER_METHODS:\n        exec(f\"\"\"\n    def {method}(self, *args, **kwargs):\n        return self._callable_wrap(\"{method}\", *args, **kwargs)\n        \"\"\".strip())\n        ",
      "metadata": {
        "trusted": true
      },
      "execution_count": 18,
      "outputs": []
    },
    {
      "cell_type": "markdown",
      "source": "##### Invoke DUNDER\n\nWe want to invoke the mutated expression safely, that is catching any exceptions and killing the mutation that was responsible for the exception without causing other mutants to fail.\n\nWe always execute the mainline first.",
      "metadata": {}
    },
    {
      "cell_type": "code",
      "source": "class ShadowVariable(ShadowVariable):\n    def _do_op_safely(self, paths: Iterable[int],\n            left: Callable[..., Any], right: Callable[..., Any],\n            args: tuple[Any, ...], kwargs: dict[str, Any], op_func: Any) -> Any:\n\n        fpart = [MAINLINE] if MAINLINE in paths else []\n        spart = [p for p in set(paths) if p != MAINLINE and p in active_mutants()]\n        \n        res = {}\n        for k in (*fpart, *spart):\n            try:\n                k_res = op_func(args, kwargs, left(k), right(k))\n            except (ZeroDivisionError, OverflowError, TypeError, ValueError) as e:\n                assert k != MAINLINE\n                add_strongly_killed(k)\n            except Exception as e:\n                logger.error(f\"Unknown Exception: {e}\")\n                raise e\n            res[k] = k_res\n        return res",
      "metadata": {
        "trusted": true
      },
      "execution_count": 19,
      "outputs": []
    },
    {
      "cell_type": "code",
      "source": "class ShadowVariable(ShadowVariable):\n    def _do_unary_op(self, op: str, *args: tuple[Any, ...], **kwargs: dict[str, Any]) -> SV:\n        self_shadow = get_selected(self._shadow)\n        res = self._do_op_safely(\n            self_shadow.keys(),\n            lambda k: self_shadow[k],\n            lambda k: None,\n            args,\n            kwargs,\n            ALLOWED_UNARY_DUNDER_METHODS[op],\n        )\n        return ShadowVariable(res, from_mapping=True)\n\n    def _do_bool_op(self, other, op, *args, **kwargs):\n        assert len(args) == 0 and len(kwargs) == 0, f\"{args} {kwargs}\"\n        self_shadow = get_selected(self._shadow)\n        if isinstance(other, ShadowVariable):\n            other_shadow = get_selected(other._shadow)\n            # notice that both self and other has taints.\n            # the result we need contains taints from both.\n            masked_shadows = get_masked_mutants() - set([MAINLINE])\n            common_shadows = {k for k in self_shadow if k in other_shadow} - masked_shadows\n            only_self_shadows = self_shadow.keys() - common_shadows - set([MAINLINE]) - masked_shadows\n            only_other_shadows = other_shadow.keys() - common_shadows - set([MAINLINE]) - masked_shadows\n\n            if only_self_shadows:\n                if MAINLINE not in other_shadow:\n                    raise ShadowException()\n                other_main = other_shadow[MAINLINE]\n                vs_ = self._do_op_safely(\n                    only_self_shadows,\n                    lambda k: self_shadow[k],\n                    lambda k: other_main,\n                    args,\n                    kwargs,\n                    ALLOWED_BOOL_DUNDER_METHODS[op],\n                )\n            else:\n                vs_ = {}\n\n            if only_other_shadows:\n                if MAINLINE not in self_shadow:\n                    raise ShadowException()\n                self_main = self_shadow[MAINLINE]\n                vo_ = self._do_op_safely(\n                    only_other_shadows,\n                    lambda k: self_main,\n                    lambda k: other_shadow[k],\n                    args,\n                    kwargs,\n                    ALLOWED_BOOL_DUNDER_METHODS[op],\n                )\n            else:\n                vo_ = {}\n\n            # if there was a pre-existing taint of the same name, this mutation was\n            # already executed. So, use that value.\n            cs_ = self._do_op_safely(\n                common_shadows,\n                lambda k: self_shadow[k],\n                lambda k: other_shadow[k],\n                args,\n                kwargs,\n                ALLOWED_BOOL_DUNDER_METHODS[op],\n            )\n            res = {**vs_, **vo_, **cs_}\n        else:\n            res = self._do_op_safely(\n                self_shadow.keys(),\n                lambda k: self_shadow[k],\n                lambda k: other,\n                args,\n                kwargs,\n                ALLOWED_BOOL_DUNDER_METHODS[op],\n            )\n        return ShadowVariable(res, from_mapping=True)",
      "metadata": {
        "trusted": true
      },
      "execution_count": 20,
      "outputs": []
    },
    {
      "cell_type": "markdown",
      "source": "#### create_shadow_variable()",
      "metadata": {}
    },
    {
      "cell_type": "code",
      "source": "class ShadowVariable(ShadowVariable):\n    def _from_container(self, obj: Any, converter: Any) ->  dict[int, Any]:\n        # handle container values\n        combined = {MAINLINE: []}\n        for elem in obj:\n            if isinstance(elem, ShadowVariable):\n                # make a copy for each path that is new\n                for path in elem._shadow:\n                    if path not in combined:\n                        combined[path] = deepcopy(combined[MAINLINE])\n\n                # append the corresponding path value for each known path\n                for path in combined:\n                    if path in elem._shadow:\n                        combined[path].append(elem._shadow[path])\n                    else:\n                        combined[path].append(elem._shadow[MAINLINE])\n\n            else:\n                for elems in combined.values():\n                    elems.append(elem)\n        # convert each path value back to a converter\n        return {path:converter(combined[path]) for path in combined}\n\n    def _from_dict(self, obj: Any) ->  dict[int, Any]:\n        if not obj: return {MAINLINE: {}}\n    \n        # This is a bit tricky as dict can have untainted and ShadowVariables as key and value.\n        # A few examples on the left the dict obj and on the right (->) the resulting ShadowVariable (sv):\n        # {0: 0}                                       -> sv(0: {0: 0})\n        # {0: sv(0: 1, 1: 2)}                          -> sv(0: {0: 1}, 1: {0: 2})\n        # {sv(0: 0, 1: 1): 0}                          -> sv(0: {0: 0}, 1: {1: 0})\n        # {sv(0: 0, 1: 1, 2: 2): sv(0: 0, 2: 2, 3: 3)} -> sv(0: {0: 0}, 1: {1: 0}, 2: {2: 2}, 3: {0: 3})\n        #\n        # There can also be multiple key value pairs.\n        # {0: 0, sv(0: 1, 2: 2): 2}                    -> sv(0: {0: 0, 1: 2}, 2: {0: 0, 2: 2})\n\n        # First expand all possible combinations for each key value pair.\n        all_expanded = []\n        for key, data in obj.items():\n            # Get all paths for a key, value pair.\n            expanded = {}\n            if isinstance(key, ShadowVariable):\n                key_shadow = key._shadow\n                key_paths = set(key_shadow.keys())\n            else:\n                # If it is an untainted value, that is equivalent to the mainline path.\n                key_paths = set([MAINLINE])\n\n            if isinstance(data, ShadowVariable):\n                data_shadow = data._shadow\n                data_paths = set(data_shadow.keys())\n            else:\n                data_paths = set([MAINLINE])\n\n            all_paths = key_paths | data_paths\n\n            # Expand each combination.\n            for path in all_paths:\n                if isinstance(key, ShadowVariable):\n                    if path in key_shadow:\n                        path_key = key_shadow[path]\n                    else:\n                        path_key = key_shadow[MAINLINE]\n                else:\n                    path_key = key\n\n                if isinstance(data, ShadowVariable):\n                    if path in data_shadow:\n                        path_data = data_shadow[path]\n                    else:\n                        path_data = data_shadow[MAINLINE]\n                else:\n                    path_data = data\n\n                expanded[path] = (path_key, path_data)\n            all_expanded.append(expanded)\n\n        # Get all paths that are needed in the resulting ShadowVariable.\n        combined = {}\n        for path in chain(*[paths.keys() for paths in all_expanded]):\n            combined[path] = {}\n        # Build the resulting path dictionaries from the expanded combinations.\n        for expanded in all_expanded:\n            for src_path, (key, val) in expanded.items():\n                # If the combination is for mainline add it to all dictionaries, if they do not\n                # have an alternative value.\n                if src_path == MAINLINE:\n                    for trg_path, dict_values in combined.items():\n                        if trg_path == MAINLINE or (\n                            trg_path != MAINLINE and trg_path not in expanded\n                        ):\n                            assert key not in dict_values\n                            dict_values[key] = val\n                else:\n                    path_dict = combined[src_path]\n                    assert key not in path_dict\n                    path_dict[key] = val\n        return combined\n    ",
      "metadata": {
        "trusted": true
      },
      "execution_count": 21,
      "outputs": []
    },
    {
      "cell_type": "code",
      "source": "class ShadowVariable(ShadowVariable):\n    def _init_from_object(self, obj: Any) -> None:\n        shadow = {}\n        value_type = type(obj)\n        # OOS: optionally make sure there are no nested shadow variables in the values\n        if isinstance(obj, ShadowVariable):\n            # Don't wrap an existing shadow \n            shadow = obj._shadow\n        elif value_type is tuple:\n            shadow = self._from_container(obj, tuple)\n        elif value_type is list:\n            shadow = self._from_container(obj, list)\n        elif value_type is set:\n            shadow = self._from_container(obj, set)\n        elif value_type is dict:\n            shadow = self._from_dict(obj)\n        else:\n            shadow[MAINLINE] = obj\n        return shadow",
      "metadata": {
        "trusted": true
      },
      "execution_count": 22,
      "outputs": []
    },
    {
      "cell_type": "code",
      "source": "class ShadowVariable(ShadowVariable):\n    def _init_from_mapping(self, values: Dict[int, Any]) -> Dict[int, Any]:\n        assert type(values) is dict\n        combined = {}\n        if MAINLINE in values:\n            # Keep mainline as initial value and add other values from there.\n            mainline_val = values[MAINLINE]\n            if isinstance(mainline_val, ShadowVariable):\n                combined = mainline_val._shadow\n            else:\n                combined = {MAINLINE: mainline_val}\n        else:\n            combined = {}\n\n        for mut_id, val in values.items():\n            if mut_id == MAINLINE:\n                continue\n\n            if isinstance(val, ShadowVariable):\n                combined[mut_id] = shadow_get(val._shadow, mut_id)\n            else:\n                assert mut_id not in combined\n                combined[mut_id] = val\n\n        return combined",
      "metadata": {
        "trusted": true
      },
      "execution_count": 23,
      "outputs": []
    },
    {
      "cell_type": "code",
      "source": "class ShadowVariable(ShadowVariable):\n    def _duplicate_mainline(self, new_path: int) -> None:\n        assert new_path not in self._shadow\n\n        mainline_val = self._shadow[MAINLINE]\n        # make a copy for all shadow variants that will be needed\n        copy = object.__new__(type(mainline_val))\n\n        queue = [(mainline_val, copy, var) for var in dir(mainline_val)]\n        while queue:\n            cur_main, cur_copy, var_name = queue.pop(0)\n            if var_name.startswith('_'):\n                continue\n\n            to_be_copied_var = cur_main.__getattribute__(var_name)\n\n            try:\n                existing_copy_var = cur_copy.__getattribute__(var_name)\n            except AttributeError:\n                # Var does not exist yet, just assign it.\n                try:\n                    cur_copy.__setattr__(var_name, deepcopy(to_be_copied_var))\n                except TypeError:\n                    raise NotImplementedError(\"Can not deepcopy variable.\")\n                # All done with this var.\n                continue\n\n            # Skip if is the same bound method as for mainline.\n            if callable(existing_copy_var) and hasattr(existing_copy_var, '__self__'):\n                assert existing_copy_var.__func__ == to_be_copied_var.__func__\n                continue\n\n            # OOS Implement copying of objects where attributes already exist.\n            raise NotImplementedError()\n\n        self._shadow[new_path] = copy",
      "metadata": {
        "trusted": true
      },
      "execution_count": 24,
      "outputs": []
    },
    {
      "cell_type": "markdown",
      "source": "For ShadowVariable wrapped object, there are two contexts where `__hash__` can be used.\nOne is during normal usage of `hash(sv)` or `sv.__hash__()`, the returned value should be a `ShadowVariable`.\n(Note that the first version checks that the return value is a int, making this impossible.)\n\nThe second usage is during built-in functions such as initialization of set or dict objects. To support these\nobjects it is necessary to return an actual hash. (Or alternatively create a substitution class, however,\nthis requires a alternative syntax for dictionaries, for example: `{key: val} -> ShadowVariableSet([(key, val), ..])`.\n\nThese are solvable problems but out of scope.)\n        \n\nCurrently only a combined hash of the different path ids and path values is returned and the context where a `ShadowVariable` should be returned is ignored.",
      "metadata": {}
    },
    {
      "cell_type": "code",
      "source": "class ShadowVariable(ShadowVariable):\n    def __hash__(self) -> int:\n        # OOS: How to detect that __hash__ is called in a context that should return a SV instead of the current implementation?\n        return hash(tuple(self._shadow.items()))",
      "metadata": {
        "trusted": true
      },
      "execution_count": 25,
      "outputs": []
    },
    {
      "cell_type": "markdown",
      "source": "Take an object and the name of a method, return the method without having the object associated,\n    a simple function that allows changing the 'self' parameter. Also return a boolean that is true if the method is\n    built-in and false if not.\n",
      "metadata": {}
    },
    {
      "cell_type": "code",
      "source": "def convert_method_to_function(obj: object, method_name: str) -> Tuple[Callable[..., Any], bool]:\n    method = obj.__getattribute__(method_name)\n    assert callable(method)\n    # convert bound method to free standing function, this allows changing the self argument\n    if isinstance(method, types.BuiltinFunctionType):\n        # If the called method is built there is no direct way to get the\n        # underlying function using .__func__ or similar (at least after my research).\n        # Instead use the object __getattribute__ on the type, this gives the function instead of the method.\n        return object.__getattribute__(type(obj), method_name), True\n    elif isinstance(method, types.MethodWrapperType):\n        return object.__getattribute__(type(obj), method_name), True\n    else:\n        return method.__func__, False",
      "metadata": {
        "trusted": true
      },
      "execution_count": 26,
      "outputs": []
    },
    {
      "cell_type": "code",
      "source": "class ShadowVariable(ShadowVariable):\n    def _callable_wrap(self, name: str, *args: tuple[Any, ...], **kwargs: dict[str, Any]) -> Any:\n        log_val = self._get_logical_res(get_logical_path())\n        logical_func, is_builtin = convert_method_to_function(log_val, name)\n        shadow = self._shadow\n\n        if is_builtin:\n            # Need some special handling if __next__ is called, it has influence on control flow.\n            # StopIteration is raised once all elements during the iteration have been passed,\n            # this can vary if we have different lengths for the wrapped variables.\n            method_is_next = name == '__next__'\n            if method_is_next:\n                next_results: dict[int, bool] = {}\n\n            # The method is a builtin, there can not be any mutations in the builtins.\n            # Apply the method to each path value and combine the results into a ShadowValue and return that instead.\n            untainted_args = untaint_args(*args, **kwargs)\n\n            all_paths = set(shadow.keys()) | set(untainted_args.keys())\n            results = {}\n            for path in sorted(all_paths):  # Do mainline first.\n                if path != MAINLINE and path not in active_mutants():\n                    # Skip inactive mutants.\n                    continue\n\n                # Get the applicable path value.\n                if path in shadow:\n                    initial_path_val = shadow[path]\n                else:\n                    initial_path_val = log_val\n\n                # Check that path and log would use the same function.\n                path_func, _ = convert_method_to_function(initial_path_val, name)\n                if path_func != logical_func:\n                    raise NotImplementedError()\n\n                # If the path value is the logical/mainline value copy it as it might be used several times.\n                # Note that the copy step can change the actual function being called, for example a dict_keyiterator\n                # will be turned into a list_iterator. For this reason, avoid copying for __next__.\n                if not method_is_next:\n                    path_val = deepcopy(initial_path_val)\n                else:\n                    path_val = initial_path_val\n\n                # Get the arguments for the current path, otherwise use mainline.\n                if path in untainted_args:\n                    path_args, path_kwargs = deepcopy(untainted_args[path])\n                else:\n                    path_args, path_kwargs = deepcopy(untainted_args[MAINLINE])\n\n\n                try:\n                    results[path] = logical_func(path_val, *path_args, **path_kwargs)\n                except IndexError as e:\n                    if name == '__getitem__':\n                        if path == MAINLINE:\n                            if get_logical_path() == MAINLINE:\n                                raise NotImplementedError()\n\n                            # Not on mainline, kill all active mutants that do not have an alternative path here.\n                            for mut in active_mutants() - all_paths:\n                                add_strongly_killed(mut)\n                        else:\n                            add_strongly_killed(path)\n                        continue\n                    else:\n                        message = traceback.format_exc()\n                        logger.error(f\"Error: {e} {message}\")\n                        raise NotImplementedError()\n                except StopIteration as e:\n                    if method_is_next:\n                        next_results[path] = False\n                        continue\n                    else:\n                        raise NotImplementedError()\n                except Exception as e:\n                    message = traceback.format_exc()\n                    logger.error(f\"Error: {message}\")\n                    raise NotImplementedError()\n\n                if method_is_next:\n                    next_results[path] = True\n\n                if initial_path_val != path_val:\n                    self._shadow[path] = path_val\n\n            if method_is_next:\n                # Handle different lengths of iterables.\n                if t_cond(ShadowVariable(next_results, from_mapping=True)):\n                    return ShadowVariable(results, from_mapping=True)\n                else:\n                    raise StopIteration\n\n            return ShadowVariable(results, from_mapping=True)\n        \n        else:\n            # Treat this method as a forkable function call, the self parameter is the ShadowVariable.\n            diverging_mutants = []\n            companion_mutants = []\n\n            for path, val in self._shadow.items():\n                if path == MAINLINE or path == get_logical_path():\n                    continue\n\n                val_func, _ = convert_method_to_function(val, name)\n                if val_func == logical_func:\n                    companion_mutants.append(path)\n                else:\n                    diverging_mutants.append(path)\n\n            add_masked_mutants(set(diverging_mutants))\n\n            wrapped_fun = t_wrap(logical_func)\n            return wrapped_fun(self, *args, **kwargs)\n        ",
      "metadata": {
        "trusted": true
      },
      "execution_count": 27,
      "outputs": []
    },
    {
      "cell_type": "code",
      "source": "class ShadowVariable(ShadowVariable):\n    def __repr__(self):\n        return f\"ShadowVariable({self._shadow})\"\n\n    def __getstate__(self) -> dict[int, Any]:\n        return self._shadow\n\n    def __setstate__(self, attributes):\n        self._shadow = attributes\n\n    def _get_paths(self):\n        return self._shadow.keys()\n\n    def _keep_active(self, seen: set[int], masked: set[int]) -> None:\n        self._shadow = get_active(self._shadow, seen, masked)\n\n    def _get_logical_res(self, logical_path: int) -> Any:\n        if logical_path in self._shadow:\n            return self._shadow[logical_path]\n        else:\n            return self._shadow[MAINLINE]\n\n    def _all_path_results(self, seen_mutants, masked_mutants):\n        paths = seen_mutants - masked_mutants - set([MAINLINE])  # self._get_paths()\n\n        if MAINLINE in self._shadow:\n            yield MAINLINE, self._shadow[MAINLINE]\n\n        for path in paths:\n            yield path, shadow_get(self._shadow, path)\n\n    def _maybe_untaint(self) -> Union[SV, Any]:\n        mainline_type = type(self._shadow[MAINLINE])\n        if mainline_type not in PRIMITIVE_TYPES: return self\n    \n        # Only return a untainted version if shadow only contains the \n        # mainline value and that value is a primitive type.\n        if len(self._shadow) == 1 and MAINLINE in self._shadow:\n            return self._shadow[MAINLINE]\n\n        return self\n\n    def _maybe_overwrite(self, other: Any, seen: set[int], masked: set[int], including_main: bool):\n        if isinstance(other, ShadowVariable):\n            for path, val in other._all_path_results(seen, masked):\n                if path == MAINLINE and not including_main:\n                    continue\n                if shadow_get(self._shadow, path) != val:\n                    self._shadow[path] = val\n        elif type(other) is dict:\n            assert False, f\"merge with type not handled: {other}\"\n        else:\n            if including_main:\n                self._shadow[MAINLINE] = val\n            for aa in seen - masked:\n                assert aa != MAINLINE\n                if shadow_get(self._shadow, aa) != other:\n                    self._shadow[aa] = val",
      "metadata": {
        "trusted": true
      },
      "execution_count": 28,
      "outputs": []
    },
    {
      "cell_type": "code",
      "source": "class ShadowVariable(ShadowVariable):\n    def __setattr__(self, name: str, value: Any) -> Any:\n        if name.startswith(\"_\"):\n            # logger.debug(f\"super setattr {name, value}\")\n            return super(ShadowVariable, self).__setattr__(name, value)\n\n        self_shadow = get_selected(self._shadow)\n\n        # Need to handle ShadowVariable arguments differently than normal ones.\n        if isinstance(value, ShadowVariable):\n            other_shadow = get_selected(value._shadow)\n\n            # duplicate mainline for all paths that are not already in mainline\n            # note that this updates self_shadow, in particular also the keys used during the next _do_op_safely call\n            for os in other_shadow:\n                if os not in self_shadow:\n                    self._duplicate_mainline(os)\n\n            # Assign the respective value for each path separately.\n            res = self._do_op_safely(\n                self_shadow.keys(),\n                lambda k: self_shadow[k],\n                lambda k: shadow_get(other_shadow, k),\n                tuple(),\n                dict(),\n                lambda _1, _2, obj, new_val: obj.__setattr__(name, new_val),\n            )\n        else:\n            # Just assign the same value to all paths.\n            res = self._do_op_safely(\n                self_shadow.keys(),\n                lambda k: self_shadow[k],\n                lambda _: value,\n                tuple(),\n                dict(),\n                lambda _1, _2, obj, new_val: obj.__setattr__(name, new_val),\n            )\n\n        return res\n\n    def __getattribute__(self, name: str) -> Any:\n        if name.startswith(\"_\"):\n            # __init__ is manually defined for ShadovVariable but can also be later called during usage of ShadowVariable.\n            # In the second case we want to call __init__ on the path values instead.\n            # This requires a special case here.\n            if name != \"__init__\":\n                return super(ShadowVariable, self).__getattribute__(name)\n        \n        log_res = self._get_logical_res(get_logical_path()).__getattribute__(name)\n        \n        if callable(log_res):\n            # OOS returning a lambda here only works if the callable is only called\n            # it does not work if the callable is compared to some other function or other edge cases\n            # maybe return a dedicated object instead that raises errors for edge cases / implements them correctly\n            return lambda *args, **kwargs: self._callable_wrap(name, *args, **kwargs)\n            \n        results = {}\n        for path, val in self._shadow.items():\n            try:\n                res = val.__getattribute__(name)\n            except:\n                raise NotImplementedError()\n\n            results[path] = res\n\n        return ShadowVariable(results, from_mapping=True)\n",
      "metadata": {
        "trusted": true
      },
      "execution_count": 29,
      "outputs": []
    },
    {
      "cell_type": "markdown",
      "source": "### t_class",
      "metadata": {}
    },
    {
      "cell_type": "markdown",
      "source": "#### _NEW_NO_INIT\nWhen a wrapped class is copied init should not be called for the wrapped objects, otherwise there will be infinite recursion, as init is a wrapped function.\nThis variable indicates if init should be called when creating a new object or not. Also this is needed when loading results for  forks, same reason.",
      "metadata": {
        "tags": []
      }
    },
    {
      "cell_type": "code",
      "source": "_NEW_NO_INIT = False",
      "metadata": {
        "tags": [],
        "trusted": true
      },
      "execution_count": 30,
      "outputs": []
    },
    {
      "cell_type": "code",
      "source": "def set_new_no_init() -> None:\n    global _NEW_NO_INIT\n    _NEW_NO_INIT = True\n\n\ndef unset_new_no_init() -> None:\n    global _NEW_NO_INIT\n    _NEW_NO_INIT = False\n\n\ndef copy_args(args, kwargs):\n    set_new_no_init()\n    copied = deepcopy((args, kwargs))\n    unset_new_no_init()\n    return copied",
      "metadata": {
        "trusted": true
      },
      "execution_count": 31,
      "outputs": []
    },
    {
      "cell_type": "code",
      "source": "def t_class(orig_class):\n    orig_new = orig_class.__new__\n\n    def wrap_new(cls, *args, **kwargs):\n        new = orig_new(cls)\n\n        if _NEW_NO_INIT:\n            # If loading from pickle (happens when combining forks), no need to wrap in ShadowVariable\n            return new\n\n        else:\n            # For actual usage wrap the object inside a ShadowVariable\n            obj = ShadowVariable(new, False)\n\n            # only call __init__ if instance of cls is returned\n            # https://docs.python.org/3/reference/datamodel.html#object.__new__\n            if isinstance(new, cls):\n                obj.__init__(*args, **kwargs)\n\n            return obj\n\n    orig_class._orig_new = orig_new\n    orig_class.__new__ = wrap_new\n    return orig_class",
      "metadata": {
        "trusted": true
      },
      "execution_count": 32,
      "outputs": []
    },
    {
      "cell_type": "code",
      "source": "def untaint_args(*args: tuple[Union[ShadowVariable, Any], ...], **kwargs: dict[str, Union[ShadowVariable, Any]]) -> dict[int, Any]:\n    \"\"\"Get a mapping of each path to args and kwargs for each path available from the ShadowVariable in the arguments.\"\"\"\n    all_muts = set([MAINLINE])\n    for arg in args + tuple(kwargs.values()):\n        if isinstance(arg, ShadowVariable):\n            all_muts |= arg._get_paths()\n\n    mainline_incomplete = False\n\n    untainted_args = {}\n    for mut in all_muts:\n\n        mut_args = []\n        for arg in args:\n            if isinstance(arg, ShadowVariable):\n                arg_shadow = arg._shadow\n                if mut in arg_shadow:\n                    mut_args.append(arg_shadow[mut])\n                elif MAINLINE in arg_shadow:\n                    mut_args.append(arg_shadow[MAINLINE])\n                else:\n                    mainline_incomplete = True\n                    continue\n            else:\n                mut_args.append(arg)\n\n        mut_kwargs = {}\n        for name, arg in kwargs.items():\n            if isinstance(arg, ShadowVariable):\n                arg_shadow = arg._shadow\n                if mut in arg_shadow:\n                    mut_kwargs[name] = arg_shadow[mut]\n                elif MAINLINE in arg_shadow:\n                    mut_kwargs[name] = arg_shadow[MAINLINE]\n                else:\n                    mainline_incomplete = True\n                    continue\n            else:\n                mut_kwargs[name] = arg\n\n        untainted_args[mut] = (tuple(mut_args), dict(mut_kwargs))\n\n    # Could not get a value for mainline for every argument. (Some sv do not have a mainline value)\n    if mainline_incomplete:\n        # This should only happen for non-mainline paths.\n        assert get_logical_path() != MAINLINE\n        del untainted_args[MAINLINE]\n\n    return untainted_args\n\n\ndef get_selected(mutations: dict[int, Any]) -> dict[int, Any]:\n    sm = get_selected_mutant()\n    if sm is not None:\n        return {path: val for path, val in mutations.items() if path in [MAINLINE, sm] }\n    else:\n        return mutations\n\n\ndef get_active(mutations: dict[int, Any], seen: set[int], masked: set[int]) -> dict[int, Any]:\n    filtered_mutations = {path: val for path, val in mutations.items() if path in seen - masked }\n\n    # logger.debug(f\"log_path: {get_logical_path()}\")\n    if MAINLINE in mutations:\n        filtered_mutations[MAINLINE] = mutations[MAINLINE]\n    if get_logical_path() in mutations:\n        filtered_mutations[get_logical_path()] = mutations[get_logical_path()]\n\n    return filtered_mutations\n\n\ndef get_active_shadow(val: Any, seen: set[int], masked: set[int]) -> Union[dict[int, Any], None]:\n    if isinstance(val, ShadowVariable):\n        return get_active(val._shadow, seen, masked)\n    else:\n        return None\n\n\ndef t_combine_shadow(mutations: dict[int, Any]) -> Any:\n    if get_logical_path() == MAINLINE:\n        add_seen_mutants(set(mutations.keys()) - get_masked_mutants() - set([MAINLINE]))\n        add_function_seen_mutants(set(mutations.keys()))\n\n    evaluated_mutations = {}\n    for mut, res in mutations.items():\n        # Skip inactive mutants\n        if (mut not in active_mutants()) and mut != MAINLINE:\n            continue\n\n        if type(res) != ShadowVariable and callable(res):\n            if mut != MAINLINE:\n                set_selected_mutant(mut)\n            try:\n                res = res()\n            except ShadowExceptionStop as e:\n                raise e\n            except ShadowException as e:\n                # Mainline value causes an exception\n                if mut == MAINLINE:\n                    if get_logical_path() == MAINLINE:\n                        # The current path is mainline, in this case the original evaluation caused an exception.\n                        # Meaning, the test suite is not green, just raise the error nothing that can be done.\n                        raise e\n\n                    # Not following mainline but mainline value fails, paths that do not have an own value in the\n                    # mutation list would fail as well, mark them as killed.\n                    for active_mut in active_mutants():\n                        if active_mut not in mutations:\n                            add_strongly_killed(active_mut)\n\n                # Non-Mainline value causes an exception.\n                else:\n                    if mut not in get_strongly_killed():\n                        # Just mark it as killed\n                        add_strongly_killed(mut)\n\n                continue\n            except Exception as e:\n                raise e\n            finally:\n                set_selected_mutant(None)\n\n        evaluated_mutations[mut] = res\n\n    res = ShadowVariable(evaluated_mutations, from_mapping=True)\n    res._keep_active(get_seen_mutants(), get_masked_mutants())\n    return res\n\n\ndef t_cond(cond: Any) -> bool:\n\n    if isinstance(cond, ShadowVariable):\n        diverging_mutants = []\n        companion_mutants = []\n\n        # get the logical path result, this is used to decide which mutations follow the logical path and which do not\n        logical_result = cond._get_logical_res(get_logical_path())\n        assert type(logical_result) == bool, f\"{cond}\"\n\n        for path, val in cond._all_path_results(get_seen_mutants(), get_masked_mutants()):\n            if path == MAINLINE or path == get_logical_path():\n                continue\n            assert type(val) == bool, f\"{cond}\"\n            if val == logical_result:\n                companion_mutants.append(path)\n            else:\n                diverging_mutants.append(path)\n\n        # Follow the logical path, if that is not the same as mainline mark other mutations as inactive\n        if diverging_mutants:\n            add_masked_mutants(set(diverging_mutants))\n\n        return logical_result\n\n    elif type(cond) == bool:\n        return cond\n    \n    else:\n        raise ValueError(f\"Unhandled t_cond type: {cond}\")\n\n\ndef shadow_assert(cmp_result):\n    if isinstance(cmp_result, ShadowVariable):\n        # Do the actual assertion as would be done in the unchanged program but only for mainline execution\n        if get_logical_path() == MAINLINE:\n            # This assert should never fail for a green test suite\n            assert cmp_result._shadow[MAINLINE] is True, f\"{cmp_result}\"\n\n        for path, res in cmp_result._all_path_results(get_seen_mutants(), get_masked_mutants()):\n            if path == MAINLINE and get_logical_path() != MAINLINE:\n                continue\n            assert type(res) == bool\n            if not res: # assert fails for mutation\n                add_strongly_killed(path)\n\n    else:\n        if not cmp_result is True:\n            if get_logical_path() is not MAINLINE:\n                # If we are not following mainline, mark all active mutants as killed\n                for mut in active_mutants():\n                    add_strongly_killed(mut)\n            else:\n                # If we are following mainline the test suite is not green\n                assert cmp_result, f\"Failed original assert\"",
      "metadata": {
        "trusted": true
      },
      "execution_count": 33,
      "outputs": []
    },
    {
      "cell_type": "markdown",
      "source": "#### Call Function",
      "metadata": {}
    },
    {
      "cell_type": "code",
      "source": "def call_maybe_cache(f, *args, **kwargs):\n    if False:\n        # Caching is implemented here in the library, however, it is omitted here.\n        raise NotImplementedError()\n\n    else:\n        # no caching, just do it normally\n        try:\n            res = f(*args, **kwargs)\n        except ShadowExceptionStop as e:\n            raise e\n        except ShadowException as e:\n            raise e\n        except Exception as e:\n            message = f\"Error: {e} {traceback.format_exc()}\"\n            logger.error(message)\n            raise NotImplementedError(f\"Exceptions in wrapped functions are not supported: {message}\")\n\n        res = ShadowVariable(res, from_mapping=False)\n        res._keep_active(get_seen_mutants(), get_masked_mutants())\n        return res",
      "metadata": {
        "trusted": true
      },
      "execution_count": 34,
      "outputs": []
    },
    {
      "cell_type": "markdown",
      "source": "#### Wrapping Functions",
      "metadata": {}
    },
    {
      "cell_type": "code",
      "source": "def no_fork_wrap(f, *args, **kwargs):\n    initial_args, initial_kwargs = copy_args(args, kwargs)\n    before_logical_path = get_logical_path()\n    before_masked = deepcopy(get_masked_mutants())\n\n    remaining_paths = set([get_logical_path()])\n    done_paths = set()\n\n    for arg in chain(args, kwargs.values()):\n        if isinstance(arg, ShadowVariable):\n            remaining_paths |= arg._get_paths()\n\n    remaining_paths -= before_masked\n    if before_logical_path != MAINLINE and MAINLINE in remaining_paths:\n        remaining_paths.remove(MAINLINE)\n\n    tainted_return = {}\n    while remaining_paths:\n        if before_logical_path in remaining_paths:\n            remaining_paths.remove(before_logical_path)\n            next_path = before_logical_path\n        else:\n            next_path = remaining_paths.pop()\n\n        set_masked_mutants((before_masked | done_paths | get_strongly_killed()) - set((next_path,)))\n        set_logical_path(next_path)\n\n        if get_logical_path() == before_logical_path:\n            copied_args, copied_kwargs = args, kwargs\n        else:\n            copied_args, copied_kwargs = copy_args(initial_args, initial_kwargs)\n\n        # Filter args and kwargs for currently available, they will be updated with the fork values.\n        for arg in copied_args:\n            if isinstance(arg, ShadowVariable):\n                arg._keep_active(get_seen_mutants(), get_masked_mutants())\n\n        for arg in copied_kwargs.values():\n            if isinstance(arg, ShadowVariable):\n                arg._keep_active(get_seen_mutants(), get_masked_mutants())\n\n        try:\n            res = call_maybe_cache(f, *copied_args, **copied_kwargs)\n        except ShadowExceptionStop as e:\n            remaining_paths -= get_strongly_killed()\n            continue \n        except ShadowException as e:\n            for mut in active_mutants():\n                add_strongly_killed(mut)\n            remaining_paths -= get_strongly_killed()\n            continue \n        after_masked = deepcopy(get_masked_mutants())\n        new_masked = after_masked - before_masked\n\n        assert isinstance(res, ShadowVariable)\n        shadow = res._shadow\n\n        # Update results for the current execution.\n        if get_logical_path() != MAINLINE and before_logical_path == get_logical_path() and MAINLINE in shadow:\n            tainted_return[MAINLINE] = shadow[MAINLINE]\n\n        for active_mut in active_mutants() | set([get_logical_path()]):\n            assert active_mut not in tainted_return\n            if active_mut in shadow:\n                tainted_return[active_mut] = shadow[active_mut]\n            elif MAINLINE in shadow:\n                tainted_return[active_mut] = shadow[MAINLINE]\n            else:\n                # Do not add to done paths.\n                continue\n            done_paths.add(active_mut)\n\n        # Update the args with the fork values, this is for functions that mutate the arguments.\n        overwrite_main = before_logical_path == get_logical_path()\n        for ii, val in enumerate(copied_args):\n            arg = args[ii]\n            if isinstance(arg, ShadowVariable):\n                arg._maybe_overwrite(val, get_seen_mutants(), get_masked_mutants(), overwrite_main)\n\n        for key, val in copied_kwargs.items():\n            arg = kwargs[key]\n            if isinstance(arg, ShadowVariable):\n                arg._maybe_overwrite(val, get_seen_mutants(), get_masked_mutants(), overwrite_main)\n\n        # Update remaining paths.\n        remaining_paths |= new_masked\n        remaining_paths -= (done_paths | get_strongly_killed())\n\n    set_masked_mutants(before_masked | get_strongly_killed())\n\n    # If there are no more active mutants and there is nothing to return just stop immediately.\n    if len(tainted_return) == 0:\n        assert get_logical_path() != MAINLINE\n        assert len(active_mutants()) == 0\n        try_next_logical_path()\n\n    if before_logical_path == MAINLINE or before_logical_path in active_mutants():\n        set_logical_path(before_logical_path)\n    else:\n        try_next_logical_path()\n\n    res = ShadowVariable(tainted_return, from_mapping=True)\n    return res._maybe_untaint()\n\n\ndef t_wrap(f):\n    @wraps(f)\n    def flow_wrapper(*args, **kwargs):\n        return no_fork_wrap(f, *args, **kwargs)\n\n    f._is_shadow_wrapped = True\n    return flow_wrapper",
      "metadata": {
        "trusted": true
      },
      "execution_count": 35,
      "outputs": []
    },
    {
      "cell_type": "markdown",
      "source": "#### The Functions to Provide the Functionality of the Library",
      "metadata": {}
    },
    {
      "cell_type": "code",
      "source": "def reinit(logical_path: Union[int, None]=None, execution_mode: Union[str, None]=None, no_atexit: bool=False) -> None:\n    # initializing shadow\n    reinit_path(logical_path)\n\ndef t_logical_path():\n    return get_logical_path()\n\ndef t_assert(cmp_result):\n    shadow_assert(cmp_result)\n\n\ndef untaint(obj):\n    if hasattr(obj, '_shadow'):\n        return obj._shadow[MAINLINE]\n    return obj\n\n\ndef get_ns_active(mutations, active, masked):\n    if active is not None:\n        filtered_mutations = { path: val for path, val in mutations.items() if path in active }\n    else:\n        filtered_mutations = { path: val for path, val in mutations.items() if path not in masked }\n\n    # logger.debug(f\"log_path: {get_logical_path()}\")\n    filtered_mutations[MAINLINE] = mutations[MAINLINE]\n    if get_logical_path() in mutations:\n        filtered_mutations[get_logical_path()] = mutations[get_logical_path()]\n\n    return filtered_mutations\n\n\ndef t_combine(mutations: dict[int, Any]) -> Any:\n    return t_combine_shadow(mutations)\n\n\ndef t_sv(var: Any) -> ShadowVariable:\n    return ShadowVariable(var, from_mapping=False)",
      "metadata": {
        "trusted": true
      },
      "execution_count": 36,
      "outputs": []
    },
    {
      "cell_type": "code",
      "source": "# Init when importing shadow\nreinit()",
      "metadata": {
        "trusted": true
      },
      "execution_count": 37,
      "outputs": []
    },
    {
      "cell_type": "markdown",
      "source": "# Usage of The Library",
      "metadata": {}
    },
    {
      "cell_type": "markdown",
      "source": "Define some functions to make it easy to compare which mutations have been killed.",
      "metadata": {}
    },
    {
      "cell_type": "code",
      "source": "def gen_killed(strong):\n    return {\n        'strong': set(strong),\n    }\n\n\ndef get_killed():\n    results = t_get_killed()\n    return {\n        'strong': set(results['strong']),\n    }",
      "metadata": {
        "trusted": true
      },
      "execution_count": 38,
      "outputs": []
    },
    {
      "cell_type": "markdown",
      "source": "The basic component is a tainted variable (called a `ShadowVariable` internally), it combines the different values caused by mutations into one variable.",
      "metadata": {}
    },
    {
      "cell_type": "code",
      "source": "print(\"To implement the library transparently global state needs to be kept.\")\nprint(\"Using the reinit function this global state can be reset.\")\nprint(\"The 'shadow' execution mode enables the non-forking, non-memoizing execution mode for the library.\")\nprint(\"Atexit is needed to correctly gather results on the end of programs, this is not needed here.\")\nreinit(execution_mode='shadow', no_atexit=True)\n\nprint()\nprint(\"The basic component is a tainted variable, let us create a simple one:\")\ntainted_int = t_combine({0: 0, 1: 1})\nprint(tainted_int)\n\nprint()\nprint(\"Assert that the expected value is zero, this is true for mainline (0) but not for mutation 1.\")\nt_assert(tainted_int == 0)\n\nprint()\nprint(\"This results in mutation 1 being marked as strongly killed:\")\nkilled = get_killed()\nprint(killed)\n\nassert killed == gen_killed({1})",
      "metadata": {
        "trusted": true
      },
      "execution_count": 39,
      "outputs": [
        {
          "name": "stdout",
          "text": "To implement the library transparently global state needs to be kept.\nUsing the reinit function this global state can be reset.\nThe 'shadow' execution mode enables the non-forking, non-memoizing execution mode for the library.\nAtexit is needed to correctly gather results on the end of programs, this is not needed here.\n\nThe basic component is a tainted variable, let us create a simple one:\nShadowVariable({1: 1, 0: 0})\n\nAssert that the expected value is zero, this is true for mainline (0) but not for mutation 1.\n\nThis results in mutation 1 being marked as strongly killed:\n{'strong': {1}}\n",
          "output_type": "stream"
        }
      ]
    },
    {
      "cell_type": "markdown",
      "source": "Variables can also be simply wrapped adding only the mainline.",
      "metadata": {}
    },
    {
      "cell_type": "code",
      "source": "reinit(execution_mode='shadow', no_atexit=True)\n\nprint()\nprint(\"Wrapping a variable:\")\ntainted_int = t_sv(0)\nprint(tainted_int)\ntainted_list = t_sv([])\nprint(tainted_list)",
      "metadata": {
        "trusted": true
      },
      "execution_count": 40,
      "outputs": [
        {
          "name": "stdout",
          "text": "\nWrapping a variable:\nShadowVariable({0: 0})\nShadowVariable({0: []})\n",
          "output_type": "stream"
        }
      ]
    },
    {
      "cell_type": "markdown",
      "source": "Functions need to be wrapped to correctly handle execution.\n\n`@t_wrap` provides all functionality needed to wrap a function.\n\nTo correctly handle control flow we need to wrap conditionals, this functionality is provided by `t_cond`.\nIf the boolean values differ the execution will be forked in the forking version and re-execution of the function\nis done in the non-forking version (which is used in this notebook).",
      "metadata": {}
    },
    {
      "cell_type": "code",
      "source": "@t_wrap\ndef add_to_list(data, val):\n    ii = 0\n    while t_cond(ii < val):\n        data.append(ii)\n        ii += 1\n    print(f\"Following mutation {t_logical_path()}, data at end of execution: {data}\")",
      "metadata": {
        "trusted": true
      },
      "execution_count": 41,
      "outputs": []
    },
    {
      "cell_type": "markdown",
      "source": "In the next example create a list and update it using the newly defined function.",
      "metadata": {}
    },
    {
      "cell_type": "code",
      "source": "reinit(execution_mode='shadow', no_atexit=True)\n\nprint(\"Initialize variables\")\ntainted_int = t_combine({0: 0, 1: 1, 2: 2})\ntainted_list = t_sv([])\nprint(tainted_int)\nprint(tainted_list)\n\nprint()\nprint(\"Execute function:\")\nadd_to_list(tainted_list, tainted_int)\nprint(\"The results are merged in the wrapper and list is updated:\")\nprint(tainted_list)",
      "metadata": {
        "trusted": true
      },
      "execution_count": 42,
      "outputs": [
        {
          "name": "stdout",
          "text": "Initialize variables\nShadowVariable({1: 1, 2: 2, 0: 0})\nShadowVariable({0: []})\n\nExecute function:\nFollowing mutation 0, data at end of execution: ShadowVariable({0: []})\nFollowing mutation 1, data at end of execution: ShadowVariable({0: [0]})\nFollowing mutation 2, data at end of execution: ShadowVariable({0: [0, 1]})\nThe results are merged in the wrapper and list is updated:\nShadowVariable({0: [], 1: [0], 2: [0, 1]})\n",
          "output_type": "stream"
        }
      ]
    },
    {
      "cell_type": "markdown",
      "source": "Another more complex example illustrating the execution order for nested functions.\n\nThe number after the function name is the currently followed path. The inner function is re-executed until all currently active mutations are evaluated.",
      "metadata": {}
    },
    {
      "cell_type": "code",
      "source": "@t_wrap\ndef inner(tainted_int):\n    print(f\"inner {t_logical_path()}:                     {tainted_int}\")\n    if t_cond(tainted_int == 1):\n        print(f\"inner {t_logical_path()} is equal 1:          {tainted_int}\")\n        tainted_int -= 1\n    else:\n        print(f\"inner {t_logical_path()} is not equal 1:      {tainted_int}\")\n        tainted_int += 1\n    print(f\"inner {t_logical_path()} res:                 {tainted_int}\")\n    return tainted_int\n\n@t_wrap\ndef func(tainted_int):\n    print(f\"func  {t_logical_path()}:                     {tainted_int}\")\n    if t_cond(tainted_int <= 1):\n        print(f\"func  {t_logical_path()} is less equal 1:     {tainted_int}\")\n        tainted_int += 1\n        tainted_int = inner(tainted_int)\n    else:\n        print(f\"func  {t_logical_path()} is not less equal 1: {tainted_int}\")\n        tainted_int -= 1\n        tainted_int = inner(tainted_int)\n    print(f\"func  {t_logical_path()} res:                 {tainted_int}\")\n    return tainted_int\n\nreinit(execution_mode=\"shadow\", no_atexit=True)\nvar = t_combine({0: 0, 1: 1, 2: 2, 3: 3})\nres = func(var)\nprint(f\"Final result: {res}\")\nt_assert(res == 0)\nassert get_killed() == gen_killed([1, 3])",
      "metadata": {
        "trusted": true
      },
      "execution_count": 43,
      "outputs": [
        {
          "name": "stdout",
          "text": "func  0:                     ShadowVariable({1: 1, 2: 2, 3: 3, 0: 0})\nfunc  0 is less equal 1:     ShadowVariable({1: 1, 2: 2, 3: 3, 0: 0})\ninner 0:                     ShadowVariable({1: 2, 0: 1})\ninner 0 is equal 1:          ShadowVariable({1: 2, 0: 1})\ninner 0 res:                 ShadowVariable({0: 0})\ninner 1:                     ShadowVariable({1: 2, 0: 1})\ninner 1 is not equal 1:      ShadowVariable({1: 2, 0: 1})\ninner 1 res:                 ShadowVariable({0: 2, 1: 3})\nfunc  0 res:                 ShadowVariable({0: 0, 1: 3})\nfunc  2:                     ShadowVariable({2: 2, 3: 3, 0: 0})\nfunc  2 is not less equal 1: ShadowVariable({2: 2, 3: 3, 0: 0})\ninner 2:                     ShadowVariable({2: 1, 3: 2, 0: -1})\ninner 2 is equal 1:          ShadowVariable({2: 1, 3: 2, 0: -1})\ninner 2 res:                 ShadowVariable({0: -2, 2: 0})\ninner 3:                     ShadowVariable({3: 2, 0: -1})\ninner 3 is not equal 1:      ShadowVariable({3: 2, 0: -1})\ninner 3 res:                 ShadowVariable({0: 0, 3: 3})\nfunc  2 res:                 ShadowVariable({0: -2, 2: 0, 3: 3})\nFinal result: ShadowVariable({0: 0, 1: 3, 2: 0, 3: 3})\n",
          "output_type": "stream"
        }
      ]
    },
    {
      "cell_type": "markdown",
      "source": "The prototype also supports user defined classes. This is supported by the `t_class` function wrapper, this transparently wraps attributes and method calls to created objects.\n\nCurrently the objects are duplicated for evaluation of further mutants, while computationally expensive this eases the implementation effort.\nPerformance can be improved for example by using a copy on write mechanism and copying fields individually.",
      "metadata": {}
    },
    {
      "cell_type": "code",
      "source": "@t_class\nclass BankAccount:\n    balance: int\n    overdrawn: bool\n\n    def __init__(self, initial_balance: int):\n        self.balance = t_combine({(0): lambda : initial_balance, (1): lambda : initial_balance != 1, (2): lambda : initial_balance + 1, (3): lambda : initial_balance * 2})\n        self.overdrawn = t_combine({(0): lambda : False})\n        self.update_overdrawn()\n\n    def __repr__(self):\n        return f\"BankAccount(balance={self.balance}, overdrawn={self.overdrawn})\"\n\n    def update_overdrawn(self) ->None:\n        if t_cond(self.balance >= 0):\n            self.overdrawn = t_combine({(0): lambda : False})\n        else:\n            self.overdrawn = t_combine({(0): lambda : True, (10): lambda : True != 1})\n\n    def deposit(self, amount: int) ->None:\n        self.balance = t_combine({(0): lambda : self.balance + amount, (13): lambda : self.balance - amount, (14): lambda : self.balance * amount, (16): lambda : self.balance % amount, (17): lambda : self.balance << amount, (18): lambda : self.balance >> amount, (19): lambda : self.balance | amount, (20): lambda : self.balance ^ amount, (21): lambda : self.balance & amount, (22): lambda : self.balance // amount})\n        self.update_overdrawn()\n\n    def withdraw(self, amount: int) ->None:\n        self.balance = t_combine({(0): lambda : self.balance - amount, (23): lambda : self.balance + amount, (24): lambda : self.balance * amount, (26): lambda : self.balance % amount, (27): lambda : self.balance << amount, (28): lambda : self.balance >> amount, (29): lambda : self.balance | amount, (30): lambda : self.balance ^ amount, (31): lambda : self.balance & amount, (32): lambda : self.balance // amount})\n        self.update_overdrawn()\n\n    def is_overdrawn(self) ->bool:\n        return self.overdrawn\n\n\n@t_wrap\ndef bank_example() ->None:\n    my_account = BankAccount(10)\n    t_assert(my_account.balance == 10)\n    t_assert(my_account.overdrawn == False)\n    print(my_account)\n    print()\n\n    my_account.deposit(5)\n    t_assert(my_account.balance == 15)\n    t_assert(my_account.overdrawn == False)\n    print(my_account)\n    print()\n\n    my_account.withdraw(200)\n    t_assert(my_account.balance == -185)\n    t_assert(my_account.overdrawn == True)\n    print(my_account)\n\n\nreinit(execution_mode=\"shadow\", no_atexit=True)\nbank_example()\nassert get_killed() == gen_killed([ 1, 2, 3, 10, 13, 14, 16, 17, 18, 21, 22, 23, 24, 26, 27, 28, 29, 30, 31, 32])",
      "metadata": {
        "trusted": true
      },
      "execution_count": 44,
      "outputs": [
        {
          "name": "stdout",
          "text": "ShadowVariable({1: BankAccount(balance=True, overdrawn=False), 2: BankAccount(balance=11, overdrawn=False), 3: BankAccount(balance=20, overdrawn=False), 0: BankAccount(balance=10, overdrawn=False)})\n\nShadowVariable({13: BankAccount(balance=5, overdrawn=False), 14: BankAccount(balance=50, overdrawn=False), 16: BankAccount(balance=0, overdrawn=False), 17: BankAccount(balance=320, overdrawn=False), 18: BankAccount(balance=0, overdrawn=False), 19: BankAccount(balance=15, overdrawn=False), 20: BankAccount(balance=15, overdrawn=False), 21: BankAccount(balance=0, overdrawn=False), 22: BankAccount(balance=2, overdrawn=False), 0: BankAccount(balance=15, overdrawn=False)})\n\nShadowVariable({19: BankAccount(balance=-185, overdrawn=True), 20: BankAccount(balance=-185, overdrawn=True), 23: BankAccount(balance=215, overdrawn=False), 24: BankAccount(balance=3000, overdrawn=False), 26: BankAccount(balance=15, overdrawn=False), 27: BankAccount(balance=24104070663884854133129431385117439037833044906741892529520640, overdrawn=False), 28: BankAccount(balance=0, overdrawn=False), 29: BankAccount(balance=207, overdrawn=False), 30: BankAccount(balance=199, overdrawn=False), 31: BankAccount(balance=8, overdrawn=False), 32: BankAccount(balance=0, overdrawn=False), 0: BankAccount(balance=-185, overdrawn=True), 10: BankAccount(balance=-185, overdrawn=False)})\n",
          "output_type": "stream"
        }
      ]
    }
  ]
}